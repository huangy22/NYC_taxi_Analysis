{
 "cells": [
  {
   "cell_type": "markdown",
   "metadata": {},
   "source": [
    "## Outline\n",
    "\n",
    "Via is considering expanding its service area to include Astoria, Queens. We are trying to find the optimal way to launch this expansion.\n",
    "\n",
    "We are using the NYC taxi data from the period before July 2016 (described and available here: http://www.nyc.gov/html/tlc/html/about/trip_record_data.shtml, also available either through BiqQuery https://bigquery.cloud.google.com/table/imjasonh-storage:nyctaxi.trip_data, or in smaller samples from http://www.andresmh.com/nyctaxitrips/), to answer the following questions:\n",
    "\n",
    "Analysis Questions:\n",
    "\n",
    "1. How would we assess the efficiency of aggregating rides within Astoria? From Astoria to Manhattan? From LaGuardia airport, through Astoria, to Manhattan and back?\n",
    "\n",
    "2. How does this compare to our current area of service (e.g. the Upper East Side)?\n",
    "\n",
    "3. Would we provide rides only within Astoria for this new service or also between Astoria and Manhattan? Why?\n",
    "\n",
    "4. Would we launch Astoria service during all our hours of operation (24/7) or only for certain hours? If so - which hours?\n",
    "\n",
    "Statistical Questions:\n",
    "\n",
    "5. If given a metric for efficiency (assume we don't know how it's calculated), how to determine whether a specific zone is more efficient than the rest of the city? How would we determine why it’s more efficient?\n",
    "\n",
    "6. How would we compare the distributions of intra-city trip prices between two different cities? How would we test whether any differences we find are explained by distance and duration?\n",
    "\n",
    "\n",
    "\n",
    "  1. [Opening and Exploring the Test Data](#chapter-1)\n",
    "      1. [Data Inspection](#chapter-1a)\n",
    "      2. [Joining the Tables](#chapter-1b)\n",
    "      3. [Distribution of the Data](#chapter-1c)\n",
    "  2. [The Difference Between \\$39 and \\$59](#chapter-2)\n",
    "      1. [Is the Difference Significant?](#chapter-2a)\n",
    "  3. [Further Insights](#chapter-3)\n",
    "      1. [Predicting Conversion](#chapter-3a)\n",
    "  5. [Conclusions and Insights](#chapter-4)\n",
    "      1. [Next Steps](#chapter-4a)"
   ]
  },
  {
   "cell_type": "code",
   "execution_count": 1,
   "metadata": {
    "collapsed": true
   },
   "outputs": [],
   "source": [
    "import numpy as np\n",
    "import pandas as pd\n",
    "import seaborn as sns\n",
    "from scipy import stats\n",
    "\n",
    "from sqlalchemy import create_engine # database connection\n",
    "from sqlalchemy.sql import text\n",
    "import datetime as dt\n",
    "from IPython.display import display\n",
    "\n",
    "import matplotlib.pyplot as plt\n",
    "%matplotlib inline"
   ]
  },
  {
   "cell_type": "markdown",
   "metadata": {},
   "source": [
    "Data in 2013 August, 12,303,170 rides in total"
   ]
  },
  {
   "cell_type": "code",
   "execution_count": 4,
   "metadata": {
    "collapsed": true
   },
   "outputs": [],
   "source": [
    "disk_engine = create_engine('sqlite:///trip_data_2013.db')"
   ]
  },
  {
   "cell_type": "code",
   "execution_count": 5,
   "metadata": {},
   "outputs": [
    {
     "name": "stdout",
     "output_type": "stream",
     "text": [
      "   COUNT(*)\n",
      "0  12303170\n"
     ]
    }
   ],
   "source": [
    "print pd.read_sql_query('SELECT COUNT(*) FROM trip_data', disk_engine)"
   ]
  },
  {
   "cell_type": "code",
   "execution_count": 7,
   "metadata": {},
   "outputs": [
    {
     "data": {
      "text/plain": [
       "Index([u'LocationID', u'Borough', u'Zone', u'service_zone'], dtype='object')"
      ]
     },
     "execution_count": 7,
     "metadata": {},
     "output_type": "execute_result"
    }
   ],
   "source": [
    "zones = pd.read_csv(\"./taxi_zones/taxi_zone_lookup.csv\")\n",
    "zones.columns"
   ]
  },
  {
   "cell_type": "code",
   "execution_count": 8,
   "metadata": {
    "collapsed": true
   },
   "outputs": [],
   "source": [
    "Manhattan_zones = zones[zones.Borough==\"Manhattan\"][\"LocationID\"].tolist()\n",
    "Astoria_zones = zones[[row in [\"Astoria\", \"Old Astoria\", \"Astoria Park\"] for row in zones.Zone]][\"LocationID\"].tolist()\n",
    "Laguardia_zones = zones[zones.Zone == \"LaGuardia Airport\"][\"LocationID\"].tolist()\n",
    "Astoria_zones = zones[[row in [\"Upper East Side North\", \"Upper East Side South\"] for row in zones.Zone]][\"LocationID\"].tolist()"
   ]
  },
  {
   "cell_type": "code",
   "execution_count": null,
   "metadata": {
    "collapsed": true
   },
   "outputs": [],
   "source": [
    "# query the rides information table for future use\n",
    "query_taxi = '''SELECT pickup_datetime, dropoff_datetime, pickup_LocationID, \n",
    "                                dropoff_LocationID, medallion\n",
    "                FROM trip_data'''\n",
    "df_rides = pd.read_sql_query(query_taxi, disk_engine)"
   ]
  },
  {
   "cell_type": "markdown",
   "metadata": {},
   "source": [
    "## Analysis questions:\n",
    "\n",
    "**Question 1: How would you assess the efficiency of aggregating rides within Astoria? From Astoria to Manhattan? From LaGuardia airport, through Astoria, to Manhattan and back?**"
   ]
  },
  {
   "cell_type": "code",
   "execution_count": null,
   "metadata": {
    "collapsed": true
   },
   "outputs": [],
   "source": [
    "# aggregating the rides within Astoria, between Astoria and LaGuardia, between Astoria and Manhattan\n",
    "query_astoria = '''SELECT * \n",
    "                     FROM ( SELECT *, \n",
    "                       CASE WHEN pickup_LocationID IN ({astoria_ids}) \n",
    "                             AND dropoff_LocationID IN ({astoria_ids}) THEN \"within_ast\" \n",
    "                           WHEN pickup_LocationID IN ({astoria_ids}) \n",
    "                             AND dropoff_LocationID = {laguardia_id} THEN \"from_lag_to_ast\" \n",
    "                           WHEN pickup_LocationID = {laguardia_id} \n",
    "                             AND dropoff_LocationID IN ({astoria_ids}) THEN \"from_ast_to_lag\" \n",
    "                           WHEN pickup_LocationID IN ({manhattan_ids}) \n",
    "                             AND dropoff_LocationID IN ({astoria_ids}) THEN \"from_man_to_ast\"\n",
    "                           WHEN pickup_LocationID IN ({astoria_ids})\n",
    "                             AND dropoff_LocationID IN ({manhattan_ids}) THEN \"from_ast_to_man\" \n",
    "                           ELSE NULL \n",
    "                       END AS zones \n",
    "                       FROM trip_data )\n",
    "                     WHERE zones IS NOT NULL '''\n",
    "f = {\"astoria_ids\": \",\".join([str(i) for i in Astoria_zones]), \n",
    "     \"laguardia_id\": Laguardia_zone, \n",
    "     \"manhattan_ids\": \",\".join([str(i) for i in Manhattan_zones])}"
   ]
  },
  {
   "cell_type": "code",
   "execution_count": null,
   "metadata": {
    "collapsed": true
   },
   "outputs": [],
   "source": [
    "df_Astoria = pd.read_sql_query(query_astoria.format(**f), disk_engine)"
   ]
  },
  {
   "cell_type": "code",
   "execution_count": null,
   "metadata": {
    "collapsed": true
   },
   "outputs": [],
   "source": [
    "print \"Number of Taxi Rides Between 2013-08-01 and 2013-08-31\"\n",
    "print \"within Astoria:                    \", len(df_Astoria[df_Astoria.zones==\"within_ast\"])\n",
    "print \"from Astoria to LaGuardia Airport: \", len(df_Astoria[df_Astoria.zones==\"from_ast_to_lag\"])\n",
    "print \"from LaGuardia Airport to Astoria: \", len(df_Astoria[df_Astoria.zones==\"from_lag_to_ast\"])\n",
    "print \"from Astoria to Manhattan:         \", len(df_Astoria[df_Astoria.zones==\"from_ast_to_man\"])\n",
    "print \"from Manhattan to Astoria:         \", len(df_Astoria[df_Astoria.zones==\"from_man_to_ast\"])"
   ]
  },
  {
   "cell_type": "code",
   "execution_count": null,
   "metadata": {
    "collapsed": true
   },
   "outputs": [],
   "source": [
    "agg_Astoria = df_Astoria[['zones', 'passenger_count', 'trip_distance', 'trip_time', 'fare_amount']] \\\n",
    "                        .groupby(['zones']).mean().reset_index()"
   ]
  },
  {
   "cell_type": "code",
   "execution_count": null,
   "metadata": {
    "collapsed": true
   },
   "outputs": [],
   "source": [
    "agg_Astoria[\"fare_per_minute\"] = agg_Astoria[\"fare_amount\"]/agg_Astoria[\"trip_time\"]*60.0\n",
    "agg_Astoria[\"dist_per_minute\"] = agg_Astoria[\"trip_distance\"]/agg_Astoria[\"trip_time\"]*60.0"
   ]
  },
  {
   "cell_type": "code",
   "execution_count": null,
   "metadata": {
    "collapsed": true
   },
   "outputs": [],
   "source": [
    "def plot_bar(df, x_cols, y_cols, titles):\n",
    "    n_y = len(titles)/3 + 1\n",
    "    plt.figure(figsize=(20,n_y*8))\n",
    "    for i in range(len(titles)):\n",
    "        plt.subplot(n_y, 3, i+1)\n",
    "        sns.barplot(x=x_cols[i],y=y_cols[i],data=df)\n",
    "        plt.xticks(rotation=10)\n",
    "        plt.title(titles[i])"
   ]
  },
  {
   "cell_type": "code",
   "execution_count": null,
   "metadata": {
    "collapsed": true
   },
   "outputs": [],
   "source": [
    "y_cols = [\"trip_time\", \"trip_distance\", \"dist_per_minute\", \"fare_per_minute\", \"passenger_count\"]\n",
    "x_cols = [\"zones\"]*len(y_cols)\n",
    "titles = [\"average trip time\", \"average trip distance\", \"average distance traveled per minute\",\n",
    "          \"average fare earned per minute\", \"average number of passengers\"]\n",
    "\n",
    "sns.set(font_scale=1.3)\n",
    "plot_bar(agg_Astoria, x_cols, y_cols, titles)"
   ]
  },
  {
   "cell_type": "markdown",
   "metadata": {},
   "source": [
    "The average waiting time for drivers dropping off at Astoria"
   ]
  },
  {
   "cell_type": "code",
   "execution_count": 166,
   "metadata": {
    "collapsed": true
   },
   "outputs": [],
   "source": [
    "# query the rides that end at Astoria\n",
    "query_to_astoria = '''SELECT pickup_datetime, dropoff_datetime, pickup_LocationID, \n",
    "                                dropoff_LocationID, medallion, hack_license\n",
    "                         FROM trip_data\n",
    "                         WHERE dropoff_LocationID IN ({astoria_ids})'''\n",
    "f = {\"astoria_ids\": \",\".join([str(i) for i in Astoria_zones])}\n",
    "df_to_astoria = pd.read_sql_query(query_to_astoria.format(**f), disk_engine)"
   ]
  },
  {
   "cell_type": "code",
   "execution_count": 177,
   "metadata": {},
   "outputs": [
    {
     "name": "stdout",
     "output_type": "stream",
     "text": [
      "Number of rides to Astoria:  674841\n",
      "pickup_datetime        object\n",
      "dropoff_datetime       object\n",
      "pickup_LocationID     float64\n",
      "dropoff_LocationID    float64\n",
      "medallion              object\n",
      "hack_license           object\n",
      "dtype: object\n"
     ]
    },
    {
     "data": {
      "text/html": [
       "<div>\n",
       "<table border=\"1\" class=\"dataframe\">\n",
       "  <thead>\n",
       "    <tr style=\"text-align: right;\">\n",
       "      <th></th>\n",
       "      <th>pickup_datetime</th>\n",
       "      <th>dropoff_datetime</th>\n",
       "      <th>pickup_LocationID</th>\n",
       "      <th>dropoff_LocationID</th>\n",
       "      <th>medallion</th>\n",
       "      <th>hack_license</th>\n",
       "    </tr>\n",
       "  </thead>\n",
       "  <tbody>\n",
       "    <tr>\n",
       "      <th>0</th>\n",
       "      <td>2013-08-30 17:43:38</td>\n",
       "      <td>2013-08-30 17:47:16</td>\n",
       "      <td>236.0</td>\n",
       "      <td>237.0</td>\n",
       "      <td>12842495074E45A2BDB93613AEBE05F3</td>\n",
       "      <td>FFF20BA1518E14B3B23F79DDDE1CA7E6</td>\n",
       "    </tr>\n",
       "    <tr>\n",
       "      <th>1</th>\n",
       "      <td>2013-08-29 19:17:22</td>\n",
       "      <td>2013-08-29 19:24:35</td>\n",
       "      <td>43.0</td>\n",
       "      <td>236.0</td>\n",
       "      <td>BD6BEC206DAB447D3D08AA2C3C75A53A</td>\n",
       "      <td>D425F45DE6E2271BA2EA9AB65BFA50D9</td>\n",
       "    </tr>\n",
       "    <tr>\n",
       "      <th>2</th>\n",
       "      <td>2013-08-26 11:24:38</td>\n",
       "      <td>2013-08-26 11:29:58</td>\n",
       "      <td>162.0</td>\n",
       "      <td>237.0</td>\n",
       "      <td>0D6EFD5154194976ECC7D1002693B7DF</td>\n",
       "      <td>6728F46F954A33E985F187B91FCBAA14</td>\n",
       "    </tr>\n",
       "    <tr>\n",
       "      <th>3</th>\n",
       "      <td>2013-08-30 00:20:14</td>\n",
       "      <td>2013-08-30 00:30:42</td>\n",
       "      <td>236.0</td>\n",
       "      <td>236.0</td>\n",
       "      <td>C4C347414D5C906720807BFC30CF13BA</td>\n",
       "      <td>262D54748AC4FE33D6BCAE268351FF80</td>\n",
       "    </tr>\n",
       "    <tr>\n",
       "      <th>4</th>\n",
       "      <td>2013-08-28 12:42:50</td>\n",
       "      <td>2013-08-28 12:47:35</td>\n",
       "      <td>236.0</td>\n",
       "      <td>236.0</td>\n",
       "      <td>F9E0A24870A77B6A347303BD68BF3081</td>\n",
       "      <td>48CAD00AF465E28CB1D0B0ABA6EDC90B</td>\n",
       "    </tr>\n",
       "  </tbody>\n",
       "</table>\n",
       "</div>"
      ],
      "text/plain": [
       "       pickup_datetime     dropoff_datetime  pickup_LocationID  \\\n",
       "0  2013-08-30 17:43:38  2013-08-30 17:47:16              236.0   \n",
       "1  2013-08-29 19:17:22  2013-08-29 19:24:35               43.0   \n",
       "2  2013-08-26 11:24:38  2013-08-26 11:29:58              162.0   \n",
       "3  2013-08-30 00:20:14  2013-08-30 00:30:42              236.0   \n",
       "4  2013-08-28 12:42:50  2013-08-28 12:47:35              236.0   \n",
       "\n",
       "   dropoff_LocationID                         medallion  \\\n",
       "0               237.0  12842495074E45A2BDB93613AEBE05F3   \n",
       "1               236.0  BD6BEC206DAB447D3D08AA2C3C75A53A   \n",
       "2               237.0  0D6EFD5154194976ECC7D1002693B7DF   \n",
       "3               236.0  C4C347414D5C906720807BFC30CF13BA   \n",
       "4               236.0  F9E0A24870A77B6A347303BD68BF3081   \n",
       "\n",
       "                       hack_license  \n",
       "0  FFF20BA1518E14B3B23F79DDDE1CA7E6  \n",
       "1  D425F45DE6E2271BA2EA9AB65BFA50D9  \n",
       "2  6728F46F954A33E985F187B91FCBAA14  \n",
       "3  262D54748AC4FE33D6BCAE268351FF80  \n",
       "4  48CAD00AF465E28CB1D0B0ABA6EDC90B  "
      ]
     },
     "execution_count": 177,
     "metadata": {},
     "output_type": "execute_result"
    }
   ],
   "source": [
    "print \"Number of rides to Astoria: \", len(df_to_astoria)\n",
    "print df_to_astoria.dtypes\n",
    "df_to_astoria.head()"
   ]
  },
  {
   "cell_type": "code",
   "execution_count": 205,
   "metadata": {},
   "outputs": [
    {
     "name": "stdout",
     "output_type": "stream",
     "text": [
      "13252\n"
     ]
    }
   ],
   "source": [
    "medallions = df_to_astoria.medallion.unique()\n",
    "print len(medallions)"
   ]
  },
  {
   "cell_type": "code",
   "execution_count": null,
   "metadata": {
    "collapsed": true
   },
   "outputs": [],
   "source": [
    "df_rides_astoria = df_rides[[row in medallions for row in df_rides.medallion[:10]]]"
   ]
  },
  {
   "cell_type": "code",
   "execution_count": 213,
   "metadata": {},
   "outputs": [
    {
     "data": {
      "text/html": [
       "<div>\n",
       "<table border=\"1\" class=\"dataframe\">\n",
       "  <thead>\n",
       "    <tr style=\"text-align: right;\">\n",
       "      <th></th>\n",
       "      <th>pickup_datetime</th>\n",
       "      <th>dropoff_datetime</th>\n",
       "      <th>pickup_LocationID</th>\n",
       "      <th>dropoff_LocationID</th>\n",
       "      <th>medallion</th>\n",
       "      <th>hack_license</th>\n",
       "    </tr>\n",
       "  </thead>\n",
       "  <tbody>\n",
       "    <tr>\n",
       "      <th>0</th>\n",
       "      <td>2013-08-01 00:46:48</td>\n",
       "      <td>2013-08-01 00:57:37</td>\n",
       "      <td>144.0</td>\n",
       "      <td>229.0</td>\n",
       "      <td>12842495074E45A2BDB93613AEBE05F3</td>\n",
       "      <td>FFF20BA1518E14B3B23F79DDDE1CA7E6</td>\n",
       "    </tr>\n",
       "    <tr>\n",
       "      <th>1</th>\n",
       "      <td>2013-08-01 06:28:23</td>\n",
       "      <td>2013-08-01 06:35:32</td>\n",
       "      <td>224.0</td>\n",
       "      <td>161.0</td>\n",
       "      <td>12842495074E45A2BDB93613AEBE05F3</td>\n",
       "      <td>E856E630A472B79E379C9A08F988255C</td>\n",
       "    </tr>\n",
       "    <tr>\n",
       "      <th>2</th>\n",
       "      <td>2013-08-01 06:42:08</td>\n",
       "      <td>2013-08-01 06:47:31</td>\n",
       "      <td>170.0</td>\n",
       "      <td>90.0</td>\n",
       "      <td>12842495074E45A2BDB93613AEBE05F3</td>\n",
       "      <td>E856E630A472B79E379C9A08F988255C</td>\n",
       "    </tr>\n",
       "    <tr>\n",
       "      <th>3</th>\n",
       "      <td>2013-08-01 06:48:20</td>\n",
       "      <td>2013-08-01 06:53:05</td>\n",
       "      <td>90.0</td>\n",
       "      <td>230.0</td>\n",
       "      <td>12842495074E45A2BDB93613AEBE05F3</td>\n",
       "      <td>E856E630A472B79E379C9A08F988255C</td>\n",
       "    </tr>\n",
       "    <tr>\n",
       "      <th>4</th>\n",
       "      <td>2013-08-01 07:02:35</td>\n",
       "      <td>2013-08-01 07:15:52</td>\n",
       "      <td>48.0</td>\n",
       "      <td>107.0</td>\n",
       "      <td>12842495074E45A2BDB93613AEBE05F3</td>\n",
       "      <td>E856E630A472B79E379C9A08F988255C</td>\n",
       "    </tr>\n",
       "  </tbody>\n",
       "</table>\n",
       "</div>"
      ],
      "text/plain": [
       "       pickup_datetime     dropoff_datetime  pickup_LocationID  \\\n",
       "0  2013-08-01 00:46:48  2013-08-01 00:57:37              144.0   \n",
       "1  2013-08-01 06:28:23  2013-08-01 06:35:32              224.0   \n",
       "2  2013-08-01 06:42:08  2013-08-01 06:47:31              170.0   \n",
       "3  2013-08-01 06:48:20  2013-08-01 06:53:05               90.0   \n",
       "4  2013-08-01 07:02:35  2013-08-01 07:15:52               48.0   \n",
       "\n",
       "   dropoff_LocationID                         medallion  \\\n",
       "0               229.0  12842495074E45A2BDB93613AEBE05F3   \n",
       "1               161.0  12842495074E45A2BDB93613AEBE05F3   \n",
       "2                90.0  12842495074E45A2BDB93613AEBE05F3   \n",
       "3               230.0  12842495074E45A2BDB93613AEBE05F3   \n",
       "4               107.0  12842495074E45A2BDB93613AEBE05F3   \n",
       "\n",
       "                       hack_license  \n",
       "0  FFF20BA1518E14B3B23F79DDDE1CA7E6  \n",
       "1  E856E630A472B79E379C9A08F988255C  \n",
       "2  E856E630A472B79E379C9A08F988255C  \n",
       "3  E856E630A472B79E379C9A08F988255C  \n",
       "4  E856E630A472B79E379C9A08F988255C  "
      ]
     },
     "execution_count": 213,
     "metadata": {},
     "output_type": "execute_result"
    }
   ],
   "source": [
    "df_rides_astoria = df_rides_astoria.sort_values(['pickup_datetime', 'dropoff_datetime'], ascending=[1, 1]) \n",
    "df_rides_astoria = df_rides_astoria.reset_index(drop=True)\n",
    "df_rides_astoria.head()"
   ]
  },
  {
   "cell_type": "code",
   "execution_count": null,
   "metadata": {
    "collapsed": true
   },
   "outputs": [],
   "source": [
    "index = 0\n",
    "df_wait_astoria = pd.DataFrame(columns = df_rides_astoria.columns.tolist() + [\"wait_time\"])\n",
    "for index, row in df_rides_astoria.iterrows():\n",
    "    if row.dropoff_LocationID in Astoria_zones:\n",
    "        try:\n",
    "            next_ride = df_rides_astoria[(df_rides_astoria.medallion == row[\"medallion\"])].iloc[index+1]\n",
    "        except:\n",
    "            next_ride = []\n",
    "        if len(next_ride) > 0:\n",
    "            wait_time = (pd.to_datetime(next_ride.pickup_datetime) - pd.to_datetime(row[\"dropoff_datetime\"])).total_seconds()/60.0\n",
    "\n",
    "            if wait_time > 0 and wait_time < 600.0:\n",
    "                row[\"wait_time\"] = wait_time\n",
    "                df_wait_astoria.loc[df_wait_astoria.shape[0]] = row   "
   ]
  },
  {
   "cell_type": "code",
   "execution_count": null,
   "metadata": {
    "collapsed": true
   },
   "outputs": [],
   "source": [
    "df_wait_astoria.describe()"
   ]
  },
  {
   "cell_type": "markdown",
   "metadata": {},
   "source": [
    "**Question 2: How does this compare to our current area of service (e.g. the Upper East Side)?**"
   ]
  },
  {
   "cell_type": "code",
   "execution_count": null,
   "metadata": {
    "collapsed": true
   },
   "outputs": [],
   "source": [
    "# aggregating the rides within Upper East Side, between Upper East Side and LaGuardia, \n",
    "# between Upper East Side and Manhattan\n",
    "query_upper_east = '''SELECT * \n",
    "                     FROM ( SELECT *, \n",
    "                       CASE WHEN pickup_LocationID IN ({upper_east_ids}) \n",
    "                             AND dropoff_LocationID IN ({upper_east_ids}) THEN \"within_ues\" \n",
    "                           WHEN pickup_LocationID IN ({upper_east_ids}) \n",
    "                             AND dropoff_LocationID = {laguardia_id} THEN \"from_lag_to_ues\" \n",
    "                           WHEN pickup_LocationID = {laguardia_id} \n",
    "                             AND dropoff_LocationID IN ({upper_east_ids}) THEN \"from_ues_to_lag\" \n",
    "                           WHEN pickup_LocationID IN ({manhattan_ids}) \n",
    "                             AND dropoff_LocationID IN ({upper_east_ids}) THEN \"from_man_to_ues\"\n",
    "                           WHEN pickup_LocationID IN ({upper_east_ids})\n",
    "                             AND dropoff_LocationID IN ({manhattan_ids}) THEN \"from_ues_to_man\"\n",
    "                           ELSE NULL \n",
    "                       END AS zones \n",
    "                       FROM trip_data )\n",
    "                     WHERE zones IS NOT NULL '''\n",
    "f = {\"upper_east_ids\": \",\".join([str(i) for i in [236, 237]]), \n",
    "     \"laguardia_id\": 138, \n",
    "     \"manhattan_ids\": \",\".join([str(i) for i in Manhattan_zones])}"
   ]
  },
  {
   "cell_type": "code",
   "execution_count": null,
   "metadata": {
    "collapsed": true
   },
   "outputs": [],
   "source": [
    "df_upper_east = pd.read_sql_query(query_upper_east.format(**f), disk_engine)"
   ]
  },
  {
   "cell_type": "code",
   "execution_count": null,
   "metadata": {
    "collapsed": true
   },
   "outputs": [],
   "source": [
    "eff_Upper_East = df_upper_east[['zones', 'passenger_count', 'trip_distance', 'trip_time', 'fare_amount']] \\\n",
    "                        .groupby(['zones']).mean().reset_index()"
   ]
  },
  {
   "cell_type": "code",
   "execution_count": null,
   "metadata": {
    "collapsed": true
   },
   "outputs": [],
   "source": [
    "eff_Upper_East[\"fare_per_minute\"] = eff_Upper_East[\"fare_amount\"]/eff_Upper_East[\"trip_time\"]*60.0\n",
    "eff_Upper_East[\"dist_per_minute\"] = eff_Upper_East[\"trip_distance\"]/eff_Upper_East[\"trip_time\"]*60.0"
   ]
  },
  {
   "cell_type": "markdown",
   "metadata": {},
   "source": [
    "**Question 3. Would you provide rides only within Astoria for this new service or also between Astoria and Manhattan? Why? For reference, Via started as a commuter service between the Upper East Side and Midtown.**"
   ]
  },
  {
   "cell_type": "markdown",
   "metadata": {},
   "source": [
    "**Question 4. Would you launch Astoria service during all our hours of operation (24/7) or only for certain hours? If so - which hours?**"
   ]
  },
  {
   "cell_type": "markdown",
   "metadata": {
    "collapsed": true
   },
   "source": [
    "Statistical questions – answer these theoretically, no need to implement:\n",
    "1. If you were given a metric for efficiency (assume you don't know how it's calculated), how would you determine whether a specific zone is more efficient than the rest of the city? How would you determine why it’s more efficient?\n",
    "2. How would you compare the distributions of intra-city trip prices between two different cities? How would you test whether any differences you find are explained by distance and duration?\n"
   ]
  },
  {
   "cell_type": "code",
   "execution_count": null,
   "metadata": {
    "collapsed": true
   },
   "outputs": [],
   "source": []
  }
 ],
 "metadata": {
  "kernelspec": {
   "display_name": "Python 2",
   "language": "python",
   "name": "python2"
  },
  "language_info": {
   "codemirror_mode": {
    "name": "ipython",
    "version": 2
   },
   "file_extension": ".py",
   "mimetype": "text/x-python",
   "name": "python",
   "nbconvert_exporter": "python",
   "pygments_lexer": "ipython2",
   "version": "2.7.13"
  }
 },
 "nbformat": 4,
 "nbformat_minor": 2
}
